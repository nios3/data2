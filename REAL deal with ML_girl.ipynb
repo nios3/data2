{
 "cells": [
  {
   "cell_type": "code",
   "execution_count": 2,
   "id": "dd584af4",
   "metadata": {},
   "outputs": [],
   "source": [
    "import pandas as pd\n",
    "import numpy as np\n",
    "from sklearn.impute import SimpleImputer\n",
    "import matplotlib.pyplot as plt"
   ]
  },
  {
   "cell_type": "code",
   "execution_count": 3,
   "id": "84e3467e",
   "metadata": {},
   "outputs": [],
   "source": [
    "data = pd.read_csv('netflixdata.csv')"
   ]
  },
  {
   "cell_type": "code",
   "execution_count": 9,
   "id": "c6321d07",
   "metadata": {},
   "outputs": [
    {
     "data": {
      "text/html": [
       "<div>\n",
       "<style scoped>\n",
       "    .dataframe tbody tr th:only-of-type {\n",
       "        vertical-align: middle;\n",
       "    }\n",
       "\n",
       "    .dataframe tbody tr th {\n",
       "        vertical-align: top;\n",
       "    }\n",
       "\n",
       "    .dataframe thead th {\n",
       "        text-align: right;\n",
       "    }\n",
       "</style>\n",
       "<table border=\"1\" class=\"dataframe\">\n",
       "  <thead>\n",
       "    <tr style=\"text-align: right;\">\n",
       "      <th></th>\n",
       "      <th>Total Library Size</th>\n",
       "      <th>No. of TV Shows</th>\n",
       "      <th>No. of Movies</th>\n",
       "      <th>Cost Per Month - Basic ($)</th>\n",
       "      <th>Cost Per Month - Standard ($)</th>\n",
       "      <th>Cost Per Month - Premium ($)</th>\n",
       "    </tr>\n",
       "  </thead>\n",
       "  <tbody>\n",
       "    <tr>\n",
       "      <th>count</th>\n",
       "      <td>65.000000</td>\n",
       "      <td>65.000000</td>\n",
       "      <td>65.000000</td>\n",
       "      <td>65.000000</td>\n",
       "      <td>65.000000</td>\n",
       "      <td>65.000000</td>\n",
       "    </tr>\n",
       "    <tr>\n",
       "      <th>mean</th>\n",
       "      <td>5314.415385</td>\n",
       "      <td>3518.953846</td>\n",
       "      <td>1795.461538</td>\n",
       "      <td>8.368462</td>\n",
       "      <td>11.990000</td>\n",
       "      <td>15.612923</td>\n",
       "    </tr>\n",
       "    <tr>\n",
       "      <th>std</th>\n",
       "      <td>980.322633</td>\n",
       "      <td>723.010556</td>\n",
       "      <td>327.279748</td>\n",
       "      <td>1.937819</td>\n",
       "      <td>2.863979</td>\n",
       "      <td>4.040672</td>\n",
       "    </tr>\n",
       "    <tr>\n",
       "      <th>min</th>\n",
       "      <td>2274.000000</td>\n",
       "      <td>1675.000000</td>\n",
       "      <td>373.000000</td>\n",
       "      <td>1.970000</td>\n",
       "      <td>3.000000</td>\n",
       "      <td>4.020000</td>\n",
       "    </tr>\n",
       "    <tr>\n",
       "      <th>25%</th>\n",
       "      <td>4948.000000</td>\n",
       "      <td>3154.000000</td>\n",
       "      <td>1628.000000</td>\n",
       "      <td>7.990000</td>\n",
       "      <td>10.710000</td>\n",
       "      <td>13.540000</td>\n",
       "    </tr>\n",
       "    <tr>\n",
       "      <th>50%</th>\n",
       "      <td>5195.000000</td>\n",
       "      <td>3512.000000</td>\n",
       "      <td>1841.000000</td>\n",
       "      <td>8.990000</td>\n",
       "      <td>11.490000</td>\n",
       "      <td>14.450000</td>\n",
       "    </tr>\n",
       "    <tr>\n",
       "      <th>75%</th>\n",
       "      <td>5952.000000</td>\n",
       "      <td>3832.000000</td>\n",
       "      <td>1980.000000</td>\n",
       "      <td>9.030000</td>\n",
       "      <td>13.540000</td>\n",
       "      <td>18.060000</td>\n",
       "    </tr>\n",
       "    <tr>\n",
       "      <th>max</th>\n",
       "      <td>7325.000000</td>\n",
       "      <td>5234.000000</td>\n",
       "      <td>2387.000000</td>\n",
       "      <td>12.880000</td>\n",
       "      <td>20.460000</td>\n",
       "      <td>26.960000</td>\n",
       "    </tr>\n",
       "  </tbody>\n",
       "</table>\n",
       "</div>"
      ],
      "text/plain": [
       "       Total Library Size  No. of TV Shows  No. of Movies  \\\n",
       "count           65.000000        65.000000      65.000000   \n",
       "mean          5314.415385      3518.953846    1795.461538   \n",
       "std            980.322633       723.010556     327.279748   \n",
       "min           2274.000000      1675.000000     373.000000   \n",
       "25%           4948.000000      3154.000000    1628.000000   \n",
       "50%           5195.000000      3512.000000    1841.000000   \n",
       "75%           5952.000000      3832.000000    1980.000000   \n",
       "max           7325.000000      5234.000000    2387.000000   \n",
       "\n",
       "       Cost Per Month - Basic ($)  Cost Per Month - Standard ($)  \\\n",
       "count                   65.000000                      65.000000   \n",
       "mean                     8.368462                      11.990000   \n",
       "std                      1.937819                       2.863979   \n",
       "min                      1.970000                       3.000000   \n",
       "25%                      7.990000                      10.710000   \n",
       "50%                      8.990000                      11.490000   \n",
       "75%                      9.030000                      13.540000   \n",
       "max                     12.880000                      20.460000   \n",
       "\n",
       "       Cost Per Month - Premium ($)  \n",
       "count                     65.000000  \n",
       "mean                      15.612923  \n",
       "std                        4.040672  \n",
       "min                        4.020000  \n",
       "25%                       13.540000  \n",
       "50%                       14.450000  \n",
       "75%                       18.060000  \n",
       "max                       26.960000  "
      ]
     },
     "execution_count": 9,
     "metadata": {},
     "output_type": "execute_result"
    }
   ],
   "source": [
    "data.describe()"
   ]
  },
  {
   "cell_type": "code",
   "execution_count": 12,
   "id": "0a55bbe5",
   "metadata": {},
   "outputs": [
    {
     "data": {
      "text/plain": [
       "list"
      ]
     },
     "execution_count": 12,
     "metadata": {},
     "output_type": "execute_result"
    }
   ],
   "source": [
    "data = list\n",
    "data"
   ]
  },
  {
   "cell_type": "code",
   "execution_count": 32,
   "id": "e35ce03e",
   "metadata": {},
   "outputs": [],
   "source": [
    "import pandas as pd\n",
    "import matplotlib.pyplot as plt"
   ]
  },
  {
   "cell_type": "code",
   "execution_count": 33,
   "id": "068d6cda",
   "metadata": {},
   "outputs": [],
   "source": [
    "data = 'netflixdata.csv'"
   ]
  },
  {
   "cell_type": "code",
   "execution_count": 34,
   "id": "376a2131",
   "metadata": {},
   "outputs": [],
   "source": [
    "data = pd.read_csv(data)"
   ]
  },
  {
   "cell_type": "code",
   "execution_count": 35,
   "id": "9593f856",
   "metadata": {},
   "outputs": [
    {
     "data": {
      "text/plain": [
       "pandas.core.frame.DataFrame"
      ]
     },
     "execution_count": 35,
     "metadata": {},
     "output_type": "execute_result"
    }
   ],
   "source": [
    "type(data)"
   ]
  },
  {
   "cell_type": "code",
   "execution_count": 36,
   "id": "7a11bd8d",
   "metadata": {},
   "outputs": [
    {
     "data": {
      "text/html": [
       "<div>\n",
       "<style scoped>\n",
       "    .dataframe tbody tr th:only-of-type {\n",
       "        vertical-align: middle;\n",
       "    }\n",
       "\n",
       "    .dataframe tbody tr th {\n",
       "        vertical-align: top;\n",
       "    }\n",
       "\n",
       "    .dataframe thead th {\n",
       "        text-align: right;\n",
       "    }\n",
       "</style>\n",
       "<table border=\"1\" class=\"dataframe\">\n",
       "  <thead>\n",
       "    <tr style=\"text-align: right;\">\n",
       "      <th></th>\n",
       "      <th>Country_code</th>\n",
       "      <th>Country</th>\n",
       "      <th>Total Library Size</th>\n",
       "      <th>No. of TV Shows</th>\n",
       "      <th>No. of Movies</th>\n",
       "      <th>Cost Per Month - Basic ($)</th>\n",
       "      <th>Cost Per Month - Standard ($)</th>\n",
       "      <th>Cost Per Month - Premium ($)</th>\n",
       "    </tr>\n",
       "  </thead>\n",
       "  <tbody>\n",
       "    <tr>\n",
       "      <th>0</th>\n",
       "      <td>ar</td>\n",
       "      <td>Argentina</td>\n",
       "      <td>4760</td>\n",
       "      <td>3154</td>\n",
       "      <td>1606</td>\n",
       "      <td>3.74</td>\n",
       "      <td>6.30</td>\n",
       "      <td>9.26</td>\n",
       "    </tr>\n",
       "    <tr>\n",
       "      <th>1</th>\n",
       "      <td>au</td>\n",
       "      <td>Australia</td>\n",
       "      <td>6114</td>\n",
       "      <td>4050</td>\n",
       "      <td>2064</td>\n",
       "      <td>7.84</td>\n",
       "      <td>12.12</td>\n",
       "      <td>16.39</td>\n",
       "    </tr>\n",
       "    <tr>\n",
       "      <th>2</th>\n",
       "      <td>at</td>\n",
       "      <td>Austria</td>\n",
       "      <td>5640</td>\n",
       "      <td>3779</td>\n",
       "      <td>1861</td>\n",
       "      <td>9.03</td>\n",
       "      <td>14.67</td>\n",
       "      <td>20.32</td>\n",
       "    </tr>\n",
       "    <tr>\n",
       "      <th>3</th>\n",
       "      <td>be</td>\n",
       "      <td>Belgium</td>\n",
       "      <td>4990</td>\n",
       "      <td>3374</td>\n",
       "      <td>1616</td>\n",
       "      <td>10.16</td>\n",
       "      <td>15.24</td>\n",
       "      <td>20.32</td>\n",
       "    </tr>\n",
       "    <tr>\n",
       "      <th>4</th>\n",
       "      <td>bo</td>\n",
       "      <td>Bolivia</td>\n",
       "      <td>4991</td>\n",
       "      <td>3155</td>\n",
       "      <td>1836</td>\n",
       "      <td>7.99</td>\n",
       "      <td>10.99</td>\n",
       "      <td>13.99</td>\n",
       "    </tr>\n",
       "  </tbody>\n",
       "</table>\n",
       "</div>"
      ],
      "text/plain": [
       "  Country_code    Country  Total Library Size  No. of TV Shows  No. of Movies  \\\n",
       "0           ar  Argentina                4760             3154           1606   \n",
       "1           au  Australia                6114             4050           2064   \n",
       "2           at    Austria                5640             3779           1861   \n",
       "3           be    Belgium                4990             3374           1616   \n",
       "4           bo    Bolivia                4991             3155           1836   \n",
       "\n",
       "   Cost Per Month - Basic ($)  Cost Per Month - Standard ($)  \\\n",
       "0                        3.74                           6.30   \n",
       "1                        7.84                          12.12   \n",
       "2                        9.03                          14.67   \n",
       "3                       10.16                          15.24   \n",
       "4                        7.99                          10.99   \n",
       "\n",
       "   Cost Per Month - Premium ($)  \n",
       "0                          9.26  \n",
       "1                         16.39  \n",
       "2                         20.32  \n",
       "3                         20.32  \n",
       "4                         13.99  "
      ]
     },
     "execution_count": 36,
     "metadata": {},
     "output_type": "execute_result"
    }
   ],
   "source": [
    "data.head()"
   ]
  },
  {
   "cell_type": "code",
   "execution_count": 39,
   "id": "6614b128",
   "metadata": {},
   "outputs": [
    {
     "data": {
      "text/plain": [
       "<bound method NDFrame.tail of    Country_code         Country  Total Library Size  No. of TV Shows  \\\n",
       "0            ar       Argentina                4760             3154   \n",
       "1            au       Australia                6114             4050   \n",
       "2            at         Austria                5640             3779   \n",
       "3            be         Belgium                4990             3374   \n",
       "4            bo         Bolivia                4991             3155   \n",
       "..          ...             ...                 ...              ...   \n",
       "60           ua         Ukraine                5336             3261   \n",
       "61           gb  United Kingdom                6643             4551   \n",
       "62           us   United States                5818             3826   \n",
       "63           uy         Uruguay                4989             3154   \n",
       "64           ve       Venezuela                4797             3154   \n",
       "\n",
       "    No. of Movies  Cost Per Month - Basic ($)  Cost Per Month - Standard ($)  \\\n",
       "0            1606                        3.74                           6.30   \n",
       "1            2064                        7.84                          12.12   \n",
       "2            1861                        9.03                          14.67   \n",
       "3            1616                       10.16                          15.24   \n",
       "4            1836                        7.99                          10.99   \n",
       "..            ...                         ...                            ...   \n",
       "60           2075                        5.64                           8.46   \n",
       "61           2092                        7.91                          13.20   \n",
       "62           1992                        8.99                          13.99   \n",
       "63           1835                        8.99                          12.99   \n",
       "64           1643                        7.99                          10.99   \n",
       "\n",
       "    Cost Per Month - Premium ($)  \n",
       "0                           9.26  \n",
       "1                          16.39  \n",
       "2                          20.32  \n",
       "3                          20.32  \n",
       "4                          13.99  \n",
       "..                           ...  \n",
       "60                         11.29  \n",
       "61                         18.48  \n",
       "62                         17.99  \n",
       "63                         15.99  \n",
       "64                         13.99  \n",
       "\n",
       "[65 rows x 8 columns]>"
      ]
     },
     "execution_count": 39,
     "metadata": {},
     "output_type": "execute_result"
    }
   ],
   "source": [
    "data.tail"
   ]
  },
  {
   "cell_type": "code",
   "execution_count": 43,
   "id": "ad7fec26",
   "metadata": {},
   "outputs": [
    {
     "data": {
      "text/plain": [
       "Index(['Country_code', 'Country', 'Total Library Size', 'No. of TV Shows',\n",
       "       'No. of Movies', 'Cost Per Month - Basic ($)',\n",
       "       'Cost Per Month - Standard ($)', 'Cost Per Month - Premium ($)'],\n",
       "      dtype='object')"
      ]
     },
     "execution_count": 43,
     "metadata": {},
     "output_type": "execute_result"
    }
   ],
   "source": [
    "data.columns"
   ]
  },
  {
   "cell_type": "code",
   "execution_count": 44,
   "id": "525be621",
   "metadata": {},
   "outputs": [
    {
     "data": {
      "text/plain": [
       "array(['Argentina', 'Australia', 'Austria', 'Belgium', 'Bolivia',\n",
       "       'Brazil', 'Bulgaria', 'Canada', 'Chile', 'Colombia', 'Costa Rica',\n",
       "       'Croatia', 'Czechia', 'Denmark', 'Ecuador', 'Estonia', 'Finland',\n",
       "       'France', 'Germany', 'Gibraltar', 'Greece', 'Guatemala',\n",
       "       'Honduras', 'Hong Kong', 'Hungary', 'Iceland', 'India',\n",
       "       'Indonesia', 'Ireland', 'Israel', 'Italy', 'Japan', 'Latvia',\n",
       "       'Liechtenstein', 'Lithuania', 'Malaysia', 'Mexico', 'Moldova',\n",
       "       'Monaco', 'Netherlands', 'New Zealand', 'Norway', 'Paraguay',\n",
       "       'Peru', 'Philippines', 'Poland', 'Portugal', 'Romania', 'Russia',\n",
       "       'San Marino', 'Singapore', 'Slovakia', 'South Africa',\n",
       "       'South Korea', 'Spain', 'Sweden', 'Switzerland', 'Taiwan',\n",
       "       'Thailand', 'Turkey', 'Ukraine', 'United Kingdom', 'United States',\n",
       "       'Uruguay', 'Venezuela'], dtype=object)"
      ]
     },
     "execution_count": 44,
     "metadata": {},
     "output_type": "execute_result"
    }
   ],
   "source": [
    "data['Country'].unique()"
   ]
  },
  {
   "cell_type": "code",
   "execution_count": 47,
   "id": "db00b63a",
   "metadata": {},
   "outputs": [
    {
     "data": {
      "text/plain": [
       "0     4760\n",
       "1     6114\n",
       "2     5640\n",
       "3     4990\n",
       "4     4991\n",
       "      ... \n",
       "60    5336\n",
       "61    6643\n",
       "62    5818\n",
       "63    4989\n",
       "64    4797\n",
       "Name: Total Library Size, Length: 65, dtype: int64"
      ]
     },
     "execution_count": 47,
     "metadata": {},
     "output_type": "execute_result"
    }
   ],
   "source": [
    "data['Total Library Size'].interpolate()"
   ]
  },
  {
   "cell_type": "code",
   "execution_count": 48,
   "id": "ba2456dd",
   "metadata": {},
   "outputs": [
    {
     "data": {
      "text/plain": [
       "Country_code                     0\n",
       "Country                          0\n",
       "Total Library Size               0\n",
       "No. of TV Shows                  0\n",
       "No. of Movies                    0\n",
       "Cost Per Month - Basic ($)       0\n",
       "Cost Per Month - Standard ($)    0\n",
       "Cost Per Month - Premium ($)     0\n",
       "dtype: int64"
      ]
     },
     "execution_count": 48,
     "metadata": {},
     "output_type": "execute_result"
    }
   ],
   "source": [
    "data.isnull().sum()"
   ]
  },
  {
   "cell_type": "code",
   "execution_count": 54,
   "id": "f0971fdb",
   "metadata": {},
   "outputs": [
    {
     "data": {
      "text/plain": [
       "(array([ 2.,  1.,  2.,  3.,  4., 16., 28.,  5.,  1.,  3.]),\n",
       " array([ 1.97 ,  3.061,  4.152,  5.243,  6.334,  7.425,  8.516,  9.607,\n",
       "        10.698, 11.789, 12.88 ]),\n",
       " <BarContainer object of 10 artists>)"
      ]
     },
     "execution_count": 54,
     "metadata": {},
     "output_type": "execute_result"
    },
    {
     "data": {
      "image/png": "[encoded data removed]",
      "text/plain": [
       "<Figure size 432x288 with 1 Axes>"
      ]
     },
     "metadata": {
      "needs_background": "light"
     },
     "output_type": "display_data"
    }
   ],
   "source": [
    "plt.hist(data['Cost Per Month - Basic ($)'])"
   ]
  },
  {
   "cell_type": "code",
   "execution_count": 55,
   "id": "e4a74382",
   "metadata": {},
   "outputs": [
    {
     "data": {
      "text/plain": [
       "(array([7., 6., 7., 6., 6., 7., 6., 7., 6., 7.]),\n",
       " array([ 0. ,  6.4, 12.8, 19.2, 25.6, 32. , 38.4, 44.8, 51.2, 57.6, 64. ]),\n",
       " <BarContainer object of 10 artists>)"
      ]
     },
     "execution_count": 55,
     "metadata": {},
     "output_type": "execute_result"
    },
    {
     "data": {
      "image/png": "[encoded data removed]",
      "text/plain": [
       "<Figure size 432x288 with 1 Axes>"
      ]
     },
     "metadata": {
      "needs_background": "light"
     },
     "output_type": "display_data"
    }
   ],
   "source": [
    "plt.hist(data['Country_code'])"
   ]
  },
  {
   "cell_type": "code",
   "execution_count": 56,
   "id": "20f18298",
   "metadata": {},
   "outputs": [
    {
     "data": {
      "text/plain": [
       "(array([7., 6., 7., 6., 6., 7., 6., 7., 6., 7.]),\n",
       " array([ 0. ,  6.4, 12.8, 19.2, 25.6, 32. , 38.4, 44.8, 51.2, 57.6, 64. ]),\n",
       " <BarContainer object of 10 artists>)"
      ]
     },
     "execution_count": 56,
     "metadata": {},
     "output_type": "execute_result"
    },
    {
     "data": {
      "image/png": "[encoded data removed]",
      "text/plain": [
       "<Figure size 432x288 with 1 Axes>"
      ]
     },
     "metadata": {
      "needs_background": "light"
     },
     "output_type": "display_data"
    }
   ],
   "source": [
    "plt.hist(data['Country'])"
   ]
  },
  {
   "cell_type": "code",
   "execution_count": 57,
   "id": "2de9840b",
   "metadata": {},
   "outputs": [
    {
     "data": {
      "text/plain": [
       "(array([ 2.,  1.,  0.,  3., 10., 19., 11.,  8.,  8.,  3.]),\n",
       " array([2274. , 2779.1, 3284.2, 3789.3, 4294.4, 4799.5, 5304.6, 5809.7,\n",
       "        6314.8, 6819.9, 7325. ]),\n",
       " <BarContainer object of 10 artists>)"
      ]
     },
     "execution_count": 57,
     "metadata": {},
     "output_type": "execute_result"
    },
    {
     "data": {
      "image/png": "[encoded data removed]",
      "text/plain": [
       "<Figure size 432x288 with 1 Axes>"
      ]
     },
     "metadata": {
      "needs_background": "light"
     },
     "output_type": "display_data"
    }
   ],
   "source": [
    "plt.hist(data['Total Library Size'])"
   ]
  },
  {
   "cell_type": "code",
   "execution_count": 58,
   "id": "7a92bb88",
   "metadata": {},
   "outputs": [
    {
     "data": {
      "text/plain": [
       "(array([ 3.,  0.,  3.,  6., 20., 14.,  8.,  6.,  3.,  2.]),\n",
       " array([1675. , 2030.9, 2386.8, 2742.7, 3098.6, 3454.5, 3810.4, 4166.3,\n",
       "        4522.2, 4878.1, 5234. ]),\n",
       " <BarContainer object of 10 artists>)"
      ]
     },
     "execution_count": 58,
     "metadata": {},
     "output_type": "execute_result"
    },
    {
     "data": {
      "image/png": "[encoded data removed]",
      "text/plain": [
       "<Figure size 432x288 with 1 Axes>"
      ]
     },
     "metadata": {
      "needs_background": "light"
     },
     "output_type": "display_data"
    }
   ],
   "source": [
    "plt.hist(data['No. of TV Shows'])"
   ]
  },
  {
   "cell_type": "code",
   "execution_count": 59,
   "id": "a5669ffb",
   "metadata": {},
   "outputs": [
    {
     "data": {
      "text/plain": [
       "(array([ 1.,  1.,  0.,  0.,  1.,  8., 11., 27., 13.,  3.]),\n",
       " array([ 373. ,  574.4,  775.8,  977.2, 1178.6, 1380. , 1581.4, 1782.8,\n",
       "        1984.2, 2185.6, 2387. ]),\n",
       " <BarContainer object of 10 artists>)"
      ]
     },
     "execution_count": 59,
     "metadata": {},
     "output_type": "execute_result"
    },
    {
     "data": {
      "image/png": "[encoded data removed]",
      "text/plain": [
       "<Figure size 432x288 with 1 Axes>"
      ]
     },
     "metadata": {
      "needs_background": "light"
     },
     "output_type": "display_data"
    }
   ],
   "source": [
    "plt.hist(data['No. of Movies'])"
   ]
  },
  {
   "cell_type": "code",
   "execution_count": 60,
   "id": "1bc049d7",
   "metadata": {},
   "outputs": [
    {
     "data": {
      "text/plain": [
       "(array([ 1.,  1.,  3.,  9., 22.,  8.,  9., 10.,  0.,  2.]),\n",
       " array([ 4.02 ,  6.314,  8.608, 10.902, 13.196, 15.49 , 17.784, 20.078,\n",
       "        22.372, 24.666, 26.96 ]),\n",
       " <BarContainer object of 10 artists>)"
      ]
     },
     "execution_count": 60,
     "metadata": {},
     "output_type": "execute_result"
    },
    {
     "data": {
      "image/png": "[encoded data removed]",
      "text/plain": [
       "<Figure size 432x288 with 1 Axes>"
      ]
     },
     "metadata": {
      "needs_background": "light"
     },
     "output_type": "display_data"
    }
   ],
   "source": [
    "plt.hist(data['Cost Per Month - Premium ($)'])"
   ]
  },
  {
   "cell_type": "code",
   "execution_count": 61,
   "id": "85d82a12",
   "metadata": {},
   "outputs": [
    {
     "data": {
      "text/plain": [
       "(array([ 1.,  1.,  3.,  4., 25., 11., 16.,  2.,  0.,  2.]),\n",
       " array([ 3.   ,  4.746,  6.492,  8.238,  9.984, 11.73 , 13.476, 15.222,\n",
       "        16.968, 18.714, 20.46 ]),\n",
       " <BarContainer object of 10 artists>)"
      ]
     },
     "execution_count": 61,
     "metadata": {},
     "output_type": "execute_result"
    },
    {
     "data": {
      "image/png": "[encoded data removed]",
      "text/plain": [
       "<Figure size 432x288 with 1 Axes>"
      ]
     },
     "metadata": {
      "needs_background": "light"
     },
     "output_type": "display_data"
    }
   ],
   "source": [
    "plt.hist(data['Cost Per Month - Standard ($)'])"
   ]
  },
  {
   "cell_type": "code",
   "execution_count": 62,
   "id": "68107b89",
   "metadata": {},
   "outputs": [
    {
     "data": {
      "text/plain": [
       "(array([ 2.,  1.,  2.,  3.,  4., 16., 28.,  5.,  1.,  3.]),\n",
       " array([ 1.97 ,  3.061,  4.152,  5.243,  6.334,  7.425,  8.516,  9.607,\n",
       "        10.698, 11.789, 12.88 ]),\n",
       " <BarContainer object of 10 artists>)"
      ]
     },
     "execution_count": 62,
     "metadata": {},
     "output_type": "execute_result"
    },
    {
     "data": {
      "image/png": "[encoded data removed]",
      "text/plain": [
       "<Figure size 432x288 with 1 Axes>"
      ]
     },
     "metadata": {
      "needs_background": "light"
     },
     "output_type": "display_data"
    }
   ],
   "source": [
    "plt.hist(data['Cost Per Month - Basic ($)'])"
   ]
  },
  {
   "cell_type": "code",
   "execution_count": null,
   "id": "af122b93",
   "metadata": {},
   "outputs": [],
   "source": []
  }
 ],
 "metadata": {
  "kernelspec": {
   "display_name": "Python 3 (ipykernel)",
   "language": "python",
   "name": "python3"
  },
  "language_info": {
   "codemirror_mode": {
    "name": "ipython",
    "version": 3
   },
   "file_extension": ".py",
   "mimetype": "text/x-python",
   "name": "python",
   "nbconvert_exporter": "python",
   "pygments_lexer": "ipython3",
   "version": "3.9.7"
  }
 },
 "nbformat": 4,
 "nbformat_minor": 5
}
